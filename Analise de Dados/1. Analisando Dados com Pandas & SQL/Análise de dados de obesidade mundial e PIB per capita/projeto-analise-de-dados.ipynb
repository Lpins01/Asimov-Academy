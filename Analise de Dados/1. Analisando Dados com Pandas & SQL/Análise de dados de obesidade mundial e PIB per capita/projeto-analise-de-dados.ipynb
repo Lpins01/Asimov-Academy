{
 "cells": [
  {
   "cell_type": "markdown",
   "id": "motivated-olympus",
   "metadata": {},
   "source": [
    "# Projeto final\n",
    "\n",
    "Bem vindo ao projeto final do curso/módulo de Pandas.\n",
    "Neste projeto, você deve responder a um conjunto de perguntas feitas a dois conjuntos de dados:\n",
    "\n",
    "1. [Obesity among adults by country, 1975-2016](https://www.kaggle.com/amanarora/obesity-among-adults-by-country-19752016/)\n",
    "2. [GDP Per Person (1901-2011)](https://www.kaggle.com/divyansh22/gdp-per-person-19012011?select=GDP.csv)\n",
    "\n",
    "Tais conjuntos de dados são públicos foram publicados no Kaggle. Mais instruções sobre cada um deles podem ser encontrados nos links acima. Você também os encontrará na pasta `Datasets`, dentro de nossas apostilas."
   ]
  },
  {
   "cell_type": "code",
   "execution_count": 2,
   "id": "million-survival",
   "metadata": {},
   "outputs": [],
   "source": [
    "import pandas as pd\n",
    "import numpy as np"
   ]
  },
  {
   "cell_type": "markdown",
   "id": "becoming-princeton",
   "metadata": {},
   "source": [
    "## Perguntas - Obesity among adults by country, 1975-2016"
   ]
  },
  {
   "cell_type": "code",
   "execution_count": 3,
   "id": "formal-heater",
   "metadata": {},
   "outputs": [],
   "source": [
    "df_obesity = pd.read_excel(\"obesity_cleaned.xlsx\", index_col=0)"
   ]
  },
  {
   "cell_type": "code",
   "execution_count": 4,
   "id": "a1dc497a",
   "metadata": {},
   "outputs": [
    {
     "data": {
      "text/html": [
       "<div>\n",
       "<style scoped>\n",
       "    .dataframe tbody tr th:only-of-type {\n",
       "        vertical-align: middle;\n",
       "    }\n",
       "\n",
       "    .dataframe tbody tr th {\n",
       "        vertical-align: top;\n",
       "    }\n",
       "\n",
       "    .dataframe thead th {\n",
       "        text-align: right;\n",
       "    }\n",
       "</style>\n",
       "<table border=\"1\" class=\"dataframe\">\n",
       "  <thead>\n",
       "    <tr style=\"text-align: right;\">\n",
       "      <th></th>\n",
       "      <th>Country</th>\n",
       "      <th>Year</th>\n",
       "      <th>Obesity (%)</th>\n",
       "      <th>Sex</th>\n",
       "    </tr>\n",
       "  </thead>\n",
       "  <tbody>\n",
       "    <tr>\n",
       "      <th>0</th>\n",
       "      <td>Afghanistan</td>\n",
       "      <td>1975</td>\n",
       "      <td>0.5 [0.2-1.1]</td>\n",
       "      <td>Both sexes</td>\n",
       "    </tr>\n",
       "    <tr>\n",
       "      <th>1</th>\n",
       "      <td>Afghanistan</td>\n",
       "      <td>1975</td>\n",
       "      <td>0.2 [0.0-0.6]</td>\n",
       "      <td>Male</td>\n",
       "    </tr>\n",
       "    <tr>\n",
       "      <th>2</th>\n",
       "      <td>Afghanistan</td>\n",
       "      <td>1975</td>\n",
       "      <td>0.8 [0.2-2.0]</td>\n",
       "      <td>Female</td>\n",
       "    </tr>\n",
       "    <tr>\n",
       "      <th>3</th>\n",
       "      <td>Afghanistan</td>\n",
       "      <td>1976</td>\n",
       "      <td>0.5 [0.2-1.1]</td>\n",
       "      <td>Both sexes</td>\n",
       "    </tr>\n",
       "    <tr>\n",
       "      <th>4</th>\n",
       "      <td>Afghanistan</td>\n",
       "      <td>1976</td>\n",
       "      <td>0.2 [0.0-0.7]</td>\n",
       "      <td>Male</td>\n",
       "    </tr>\n",
       "  </tbody>\n",
       "</table>\n",
       "</div>"
      ],
      "text/plain": [
       "       Country  Year    Obesity (%)         Sex\n",
       "0  Afghanistan  1975  0.5 [0.2-1.1]  Both sexes\n",
       "1  Afghanistan  1975  0.2 [0.0-0.6]        Male\n",
       "2  Afghanistan  1975  0.8 [0.2-2.0]      Female\n",
       "3  Afghanistan  1976  0.5 [0.2-1.1]  Both sexes\n",
       "4  Afghanistan  1976  0.2 [0.0-0.7]        Male"
      ]
     },
     "execution_count": 4,
     "metadata": {},
     "output_type": "execute_result"
    }
   ],
   "source": [
    "df_obesity.head()"
   ]
  },
  {
   "cell_type": "markdown",
   "id": "divine-rebel",
   "metadata": {},
   "source": [
    "- Limpe os dados do DataFrame, criando uma coluna de nome 'Obesity' que conterá os valores de obesidade. Transforme em float as colunas que porventura foram importadas como string."
   ]
  },
  {
   "cell_type": "code",
   "execution_count": 5,
   "id": "cubic-minneapolis",
   "metadata": {},
   "outputs": [],
   "source": [
    "df_obesity[\"Obesity\"] = df_obesity[\"Obesity (%)\"].str.split(' ').str[0]"
   ]
  },
  {
   "cell_type": "code",
   "execution_count": 6,
   "id": "e0b75f55",
   "metadata": {},
   "outputs": [],
   "source": [
    "df_obesity.loc[df_obesity[\"Obesity\"] == \"No\", \"Obesity\"] = np.nan\n",
    "df_obesity[\"Obesity\"] = df_obesity[\"Obesity\"].dropna()"
   ]
  },
  {
   "cell_type": "code",
   "execution_count": 7,
   "id": "a3ede9c3",
   "metadata": {},
   "outputs": [],
   "source": [
    "df_obesity[\"Obesity\"] = df_obesity[\"Obesity\"].apply(lambda x: float(x))\n",
    "df_obesity[\"Year\"] = df_obesity[\"Year\"].apply(lambda x: int(x))"
   ]
  },
  {
   "cell_type": "code",
   "execution_count": 8,
   "id": "90777524",
   "metadata": {},
   "outputs": [],
   "source": [
    "df_obesity.set_index(\"Year\", inplace=True)"
   ]
  },
  {
   "cell_type": "code",
   "execution_count": 9,
   "id": "5c13853c",
   "metadata": {},
   "outputs": [
    {
     "data": {
      "text/plain": [
       "Country         object\n",
       "Obesity (%)     object\n",
       "Sex             object\n",
       "Obesity        float64\n",
       "dtype: object"
      ]
     },
     "execution_count": 9,
     "metadata": {},
     "output_type": "execute_result"
    }
   ],
   "source": [
    "df_obesity.dtypes"
   ]
  },
  {
   "cell_type": "markdown",
   "id": "voluntary-temperature",
   "metadata": {},
   "source": [
    "- Qual o percentual médio de obesidade por sexo no mundo no ano de 2015?"
   ]
  },
  {
   "cell_type": "code",
   "execution_count": 10,
   "id": "afraid-reminder",
   "metadata": {},
   "outputs": [
    {
     "data": {
      "text/html": [
       "<div>\n",
       "<style scoped>\n",
       "    .dataframe tbody tr th:only-of-type {\n",
       "        vertical-align: middle;\n",
       "    }\n",
       "\n",
       "    .dataframe tbody tr th {\n",
       "        vertical-align: top;\n",
       "    }\n",
       "\n",
       "    .dataframe thead th {\n",
       "        text-align: right;\n",
       "    }\n",
       "</style>\n",
       "<table border=\"1\" class=\"dataframe\">\n",
       "  <thead>\n",
       "    <tr style=\"text-align: right;\">\n",
       "      <th></th>\n",
       "      <th>Obesity</th>\n",
       "    </tr>\n",
       "    <tr>\n",
       "      <th>Sex</th>\n",
       "      <th></th>\n",
       "    </tr>\n",
       "  </thead>\n",
       "  <tbody>\n",
       "    <tr>\n",
       "      <th>Both sexes</th>\n",
       "      <td>19.508377</td>\n",
       "    </tr>\n",
       "    <tr>\n",
       "      <th>Female</th>\n",
       "      <td>22.899476</td>\n",
       "    </tr>\n",
       "    <tr>\n",
       "      <th>Male</th>\n",
       "      <td>15.980628</td>\n",
       "    </tr>\n",
       "  </tbody>\n",
       "</table>\n",
       "</div>"
      ],
      "text/plain": [
       "              Obesity\n",
       "Sex                  \n",
       "Both sexes  19.508377\n",
       "Female      22.899476\n",
       "Male        15.980628"
      ]
     },
     "execution_count": 10,
     "metadata": {},
     "output_type": "execute_result"
    }
   ],
   "source": [
    "df_obesity[df_obesity.index == 2015].groupby(\"Sex\").mean(\"Obesity\")"
   ]
  },
  {
   "cell_type": "markdown",
   "id": "expected-kruger",
   "metadata": {},
   "source": [
    "- Quais são os 5 países com a maior e a menor taxa de aumento nos índices de obesidade no período observado?"
   ]
  },
  {
   "cell_type": "code",
   "execution_count": 11,
   "id": "494e9160",
   "metadata": {},
   "outputs": [],
   "source": [
    "df_obesity_start = df_obesity[df_obesity.index == 1975]\n",
    "df_obesity_end = df_obesity[df_obesity.index == 2016]"
   ]
  },
  {
   "cell_type": "code",
   "execution_count": 12,
   "id": "8da315d8",
   "metadata": {},
   "outputs": [],
   "source": [
    "df_obesity_start.set_index(\"Country\", inplace=True)\n",
    "df_obesity_end.set_index(\"Country\", inplace=True)"
   ]
  },
  {
   "cell_type": "code",
   "execution_count": 13,
   "id": "428c0222",
   "metadata": {},
   "outputs": [],
   "source": [
    "df_obesity_ev = df_obesity_end[df_obesity_end[\"Sex\"] == \"Both sexes\"][\"Obesity\"] - df_obesity_start[df_obesity_start[\"Sex\"] == \"Both sexes\"][\"Obesity\"]"
   ]
  },
  {
   "cell_type": "code",
   "execution_count": 14,
   "id": "c06d4265",
   "metadata": {},
   "outputs": [
    {
     "data": {
      "text/plain": [
       "Country\n",
       "Viet Nam       2.0\n",
       "Singapore      3.1\n",
       "Japan          3.3\n",
       "Bangladesh     3.4\n",
       "Timor-Leste    3.6\n",
       "Name: Obesity, dtype: float64"
      ]
     },
     "execution_count": 14,
     "metadata": {},
     "output_type": "execute_result"
    }
   ],
   "source": [
    "df_obesity_ev.sort_values().dropna().head(5)"
   ]
  },
  {
   "cell_type": "code",
   "execution_count": 15,
   "id": "f8f11449",
   "metadata": {},
   "outputs": [
    {
     "data": {
      "text/plain": [
       "Country\n",
       "Cook Islands    27.9\n",
       "Tonga           28.3\n",
       "Kiribati        30.1\n",
       "Niue            31.1\n",
       "Tuvalu          33.7\n",
       "Name: Obesity, dtype: float64"
      ]
     },
     "execution_count": 15,
     "metadata": {},
     "output_type": "execute_result"
    }
   ],
   "source": [
    "df_obesity_ev.sort_values().dropna().tail(5)"
   ]
  },
  {
   "cell_type": "markdown",
   "id": "efficient-buyer",
   "metadata": {},
   "source": [
    "- Quais os países com maiores e menores níveis percetuais de obesidade em 2015?"
   ]
  },
  {
   "cell_type": "code",
   "execution_count": 16,
   "id": "violent-warren",
   "metadata": {},
   "outputs": [],
   "source": [
    "df_2015 = df_obesity[df_obesity.index == 2015]"
   ]
  },
  {
   "cell_type": "code",
   "execution_count": 17,
   "id": "78e65439",
   "metadata": {},
   "outputs": [
    {
     "data": {
      "text/html": [
       "<div>\n",
       "<style scoped>\n",
       "    .dataframe tbody tr th:only-of-type {\n",
       "        vertical-align: middle;\n",
       "    }\n",
       "\n",
       "    .dataframe tbody tr th {\n",
       "        vertical-align: top;\n",
       "    }\n",
       "\n",
       "    .dataframe thead th {\n",
       "        text-align: right;\n",
       "    }\n",
       "</style>\n",
       "<table border=\"1\" class=\"dataframe\">\n",
       "  <thead>\n",
       "    <tr style=\"text-align: right;\">\n",
       "      <th></th>\n",
       "      <th>Country</th>\n",
       "      <th>Obesity (%)</th>\n",
       "      <th>Sex</th>\n",
       "      <th>Obesity</th>\n",
       "    </tr>\n",
       "    <tr>\n",
       "      <th>Year</th>\n",
       "      <th></th>\n",
       "      <th></th>\n",
       "      <th></th>\n",
       "      <th></th>\n",
       "    </tr>\n",
       "  </thead>\n",
       "  <tbody>\n",
       "    <tr>\n",
       "      <th>2015</th>\n",
       "      <td>Nauru</td>\n",
       "      <td>63.1 [55.5-70.3]</td>\n",
       "      <td>Female</td>\n",
       "      <td>63.1</td>\n",
       "    </tr>\n",
       "  </tbody>\n",
       "</table>\n",
       "</div>"
      ],
      "text/plain": [
       "     Country       Obesity (%)     Sex  Obesity\n",
       "Year                                           \n",
       "2015   Nauru  63.1 [55.5-70.3]  Female     63.1"
      ]
     },
     "execution_count": 17,
     "metadata": {},
     "output_type": "execute_result"
    }
   ],
   "source": [
    "df_2015[df_2015[\"Obesity\"] == df_2015[\"Obesity\"].max()]"
   ]
  },
  {
   "cell_type": "code",
   "execution_count": 18,
   "id": "88d3adc2",
   "metadata": {},
   "outputs": [
    {
     "data": {
      "text/html": [
       "<div>\n",
       "<style scoped>\n",
       "    .dataframe tbody tr th:only-of-type {\n",
       "        vertical-align: middle;\n",
       "    }\n",
       "\n",
       "    .dataframe tbody tr th {\n",
       "        vertical-align: top;\n",
       "    }\n",
       "\n",
       "    .dataframe thead th {\n",
       "        text-align: right;\n",
       "    }\n",
       "</style>\n",
       "<table border=\"1\" class=\"dataframe\">\n",
       "  <thead>\n",
       "    <tr style=\"text-align: right;\">\n",
       "      <th></th>\n",
       "      <th>Country</th>\n",
       "      <th>Obesity (%)</th>\n",
       "      <th>Sex</th>\n",
       "      <th>Obesity</th>\n",
       "    </tr>\n",
       "    <tr>\n",
       "      <th>Year</th>\n",
       "      <th></th>\n",
       "      <th></th>\n",
       "      <th></th>\n",
       "      <th></th>\n",
       "    </tr>\n",
       "  </thead>\n",
       "  <tbody>\n",
       "    <tr>\n",
       "      <th>2015</th>\n",
       "      <td>Viet Nam</td>\n",
       "      <td>1.5 [0.8-2.5]</td>\n",
       "      <td>Male</td>\n",
       "      <td>1.5</td>\n",
       "    </tr>\n",
       "  </tbody>\n",
       "</table>\n",
       "</div>"
      ],
      "text/plain": [
       "       Country    Obesity (%)   Sex  Obesity\n",
       "Year                                        \n",
       "2015  Viet Nam  1.5 [0.8-2.5]  Male      1.5"
      ]
     },
     "execution_count": 18,
     "metadata": {},
     "output_type": "execute_result"
    }
   ],
   "source": [
    "df_2015[df_2015[\"Obesity\"] == df_2015[\"Obesity\"].min()]"
   ]
  },
  {
   "cell_type": "markdown",
   "id": "average-holiday",
   "metadata": {},
   "source": [
    "- Qual a diferença média percentual de obesidade entre sexos ao longo dos anos para o Brasil?"
   ]
  },
  {
   "cell_type": "code",
   "execution_count": 19,
   "id": "later-occurrence",
   "metadata": {},
   "outputs": [],
   "source": [
    "df_brazil = df_obesity[df_obesity[\"Country\"] == \"Brazil\"]"
   ]
  },
  {
   "cell_type": "code",
   "execution_count": 20,
   "id": "d7f720d7",
   "metadata": {},
   "outputs": [
    {
     "data": {
      "text/plain": [
       "<Axes: xlabel='Year'>"
      ]
     },
     "execution_count": 20,
     "metadata": {},
     "output_type": "execute_result"
    },
    {
     "data": {
      "image/png": "[encoded data removed]",
      "text/plain": [
       "<Figure size 640x480 with 1 Axes>"
      ]
     },
     "metadata": {},
     "output_type": "display_data"
    }
   ],
   "source": [
    "(df_brazil[df_brazil[\"Sex\"] == \"Female\"][\"Obesity\"] - df_brazil[df_brazil[\"Sex\"] == \"Male\"][\"Obesity\"]).plot()"
   ]
  },
  {
   "cell_type": "markdown",
   "id": "rising-exhaust",
   "metadata": {},
   "source": [
    "- Você conseguiria plotar um gráfico mostrando a evolução da obesidade para ambos sexos no mundo?"
   ]
  },
  {
   "cell_type": "code",
   "execution_count": 21,
   "id": "senior-recruitment",
   "metadata": {},
   "outputs": [],
   "source": [
    "df_both = df_obesity[df_obesity[\"Sex\"] == \"Both sexes\"]"
   ]
  },
  {
   "cell_type": "code",
   "execution_count": 22,
   "id": "c5adfdd9",
   "metadata": {},
   "outputs": [
    {
     "data": {
      "text/plain": [
       "<Axes: xlabel='Year'>"
      ]
     },
     "execution_count": 22,
     "metadata": {},
     "output_type": "execute_result"
    },
    {
     "data": {
      "image/png": "[encoded data removed]",
      "text/plain": [
       "<Figure size 640x480 with 1 Axes>"
      ]
     },
     "metadata": {},
     "output_type": "display_data"
    }
   ],
   "source": [
    "df_both.groupby(\"Year\")[\"Obesity\"].mean().plot()"
   ]
  },
  {
   "cell_type": "markdown",
   "id": "a9d82a84",
   "metadata": {},
   "source": [
    "- Extra: Gráfico comparativo entre as evoluções por sexo no mundo"
   ]
  },
  {
   "cell_type": "code",
   "execution_count": 23,
   "id": "06492eb3",
   "metadata": {},
   "outputs": [],
   "source": [
    "df_sexes = df_obesity[df_obesity[\"Sex\"] == \"Female\"].copy()\n",
    "df_sexes.rename(columns={\"Obesity\": \"Obesity_F\"}, inplace=True)\n",
    "df_sexes[\"Obesity_M\"] = df_obesity[df_obesity[\"Sex\"] == \"Male\"][\"Obesity\"]\n",
    "df_sexes.drop(columns=[\"Obesity (%)\", \"Sex\"], inplace=True)"
   ]
  },
  {
   "cell_type": "code",
   "execution_count": 24,
   "id": "2a296208",
   "metadata": {},
   "outputs": [
    {
     "data": {
      "text/plain": [
       "<Axes: xlabel='Year'>"
      ]
     },
     "execution_count": 24,
     "metadata": {},
     "output_type": "execute_result"
    },
    {
     "data": {
      "image/png": "[encoded data removed]",
      "text/plain": [
       "<Figure size 640x480 with 1 Axes>"
      ]
     },
     "metadata": {},
     "output_type": "display_data"
    }
   ],
   "source": [
    "df_sexes.groupby(\"Year\")[[\"Obesity_F\", \"Obesity_M\"]].mean().plot()"
   ]
  },
  {
   "cell_type": "markdown",
   "id": "labeled-rainbow",
   "metadata": {},
   "source": [
    "## Perguntas - GDP Per Person (1901-2011)"
   ]
  },
  {
   "cell_type": "code",
   "execution_count": 29,
   "id": "thermal-breeding",
   "metadata": {},
   "outputs": [],
   "source": [
    "df_gdp = pd.read_csv(\"GDP.csv\", decimal=\".\")"
   ]
  },
  {
   "cell_type": "code",
   "execution_count": 30,
   "id": "2a57727d",
   "metadata": {},
   "outputs": [
    {
     "data": {
      "text/html": [
       "<div>\n",
       "<style scoped>\n",
       "    .dataframe tbody tr th:only-of-type {\n",
       "        vertical-align: middle;\n",
       "    }\n",
       "\n",
       "    .dataframe tbody tr th {\n",
       "        vertical-align: top;\n",
       "    }\n",
       "\n",
       "    .dataframe thead th {\n",
       "        text-align: right;\n",
       "    }\n",
       "</style>\n",
       "<table border=\"1\" class=\"dataframe\">\n",
       "  <thead>\n",
       "    <tr style=\"text-align: right;\">\n",
       "      <th></th>\n",
       "      <th>Country</th>\n",
       "      <th>Region</th>\n",
       "      <th>Year</th>\n",
       "      <th>GDP_pp</th>\n",
       "    </tr>\n",
       "  </thead>\n",
       "  <tbody>\n",
       "    <tr>\n",
       "      <th>0</th>\n",
       "      <td>Afghanistan</td>\n",
       "      <td>Middle East, North Africa, and Greater Arabia</td>\n",
       "      <td>1/1/1901</td>\n",
       "      <td>613.99</td>\n",
       "    </tr>\n",
       "    <tr>\n",
       "      <th>1</th>\n",
       "      <td>Afghanistan</td>\n",
       "      <td>Middle East, North Africa, and Greater Arabia</td>\n",
       "      <td>1/1/1906</td>\n",
       "      <td>624.04</td>\n",
       "    </tr>\n",
       "    <tr>\n",
       "      <th>2</th>\n",
       "      <td>Afghanistan</td>\n",
       "      <td>Middle East, North Africa, and Greater Arabia</td>\n",
       "      <td>1/1/1911</td>\n",
       "      <td>634.25</td>\n",
       "    </tr>\n",
       "    <tr>\n",
       "      <th>3</th>\n",
       "      <td>Afghanistan</td>\n",
       "      <td>Middle East, North Africa, and Greater Arabia</td>\n",
       "      <td>1/1/1916</td>\n",
       "      <td>647.28</td>\n",
       "    </tr>\n",
       "    <tr>\n",
       "      <th>4</th>\n",
       "      <td>Afghanistan</td>\n",
       "      <td>Middle East, North Africa, and Greater Arabia</td>\n",
       "      <td>1/1/1921</td>\n",
       "      <td>662.40</td>\n",
       "    </tr>\n",
       "  </tbody>\n",
       "</table>\n",
       "</div>"
      ],
      "text/plain": [
       "       Country                                         Region      Year  \\\n",
       "0  Afghanistan  Middle East, North Africa, and Greater Arabia  1/1/1901   \n",
       "1  Afghanistan  Middle East, North Africa, and Greater Arabia  1/1/1906   \n",
       "2  Afghanistan  Middle East, North Africa, and Greater Arabia  1/1/1911   \n",
       "3  Afghanistan  Middle East, North Africa, and Greater Arabia  1/1/1916   \n",
       "4  Afghanistan  Middle East, North Africa, and Greater Arabia  1/1/1921   \n",
       "\n",
       "    GDP_pp   \n",
       "0   613.99   \n",
       "1   624.04   \n",
       "2   634.25   \n",
       "3   647.28   \n",
       "4   662.40   "
      ]
     },
     "execution_count": 30,
     "metadata": {},
     "output_type": "execute_result"
    }
   ],
   "source": [
    "df_gdp.head()"
   ]
  },
  {
   "cell_type": "code",
   "execution_count": 31,
   "id": "f92c3d90",
   "metadata": {},
   "outputs": [
    {
     "name": "stdout",
     "output_type": "stream",
     "text": [
      "<class 'pandas.core.frame.DataFrame'>\n",
      "RangeIndex: 4419 entries, 0 to 4418\n",
      "Data columns (total 4 columns):\n",
      " #   Column    Non-Null Count  Dtype \n",
      "---  ------    --------------  ----- \n",
      " 0   Country   4419 non-null   object\n",
      " 1   Region    4419 non-null   object\n",
      " 2   Year      4419 non-null   object\n",
      " 3    GDP_pp   4419 non-null   object\n",
      "dtypes: object(4)\n",
      "memory usage: 138.2+ KB\n"
     ]
    }
   ],
   "source": [
    "df_gdp.info()"
   ]
  },
  {
   "cell_type": "markdown",
   "id": "suffering-guitar",
   "metadata": {},
   "source": [
    "- Limpe o conjunto de dados, convertendo strings em datas ou float, quando necessário."
   ]
  },
  {
   "cell_type": "code",
   "execution_count": null,
   "id": "fundamental-occasions",
   "metadata": {},
   "outputs": [],
   "source": [
    "df_gdp[\" GDP_pp \"].replace(r\",\", \"\", regex=True, inplace=True)\n",
    "df_gdp[\" GDP_pp \"] = df_gdp[\" GDP_pp \"].apply(lambda x: float(x))"
   ]
  },
  {
   "cell_type": "code",
   "execution_count": 35,
   "id": "495c05c4",
   "metadata": {},
   "outputs": [],
   "source": [
    "df_gdp[\"Year\"] = pd.to_datetime(df_gdp[\"Year\"])"
   ]
  },
  {
   "cell_type": "code",
   "execution_count": 36,
   "id": "3fdc0914",
   "metadata": {},
   "outputs": [
    {
     "name": "stdout",
     "output_type": "stream",
     "text": [
      "<class 'pandas.core.frame.DataFrame'>\n",
      "RangeIndex: 4419 entries, 0 to 4418\n",
      "Data columns (total 4 columns):\n",
      " #   Column    Non-Null Count  Dtype         \n",
      "---  ------    --------------  -----         \n",
      " 0   Country   4419 non-null   object        \n",
      " 1   Region    4419 non-null   object        \n",
      " 2   Year      4419 non-null   datetime64[ns]\n",
      " 3    GDP_pp   4419 non-null   float64       \n",
      "dtypes: datetime64[ns](1), float64(1), object(2)\n",
      "memory usage: 138.2+ KB\n"
     ]
    }
   ],
   "source": [
    "df_gdp.info()"
   ]
  },
  {
   "cell_type": "markdown",
   "id": "studied-validity",
   "metadata": {},
   "source": [
    "- Você conseguiria informar o primeiro valor registrado de cada país?"
   ]
  },
  {
   "cell_type": "code",
   "execution_count": 38,
   "id": "frequent-rental",
   "metadata": {},
   "outputs": [
    {
     "data": {
      "text/html": [
       "<div>\n",
       "<style scoped>\n",
       "    .dataframe tbody tr th:only-of-type {\n",
       "        vertical-align: middle;\n",
       "    }\n",
       "\n",
       "    .dataframe tbody tr th {\n",
       "        vertical-align: top;\n",
       "    }\n",
       "\n",
       "    .dataframe thead th {\n",
       "        text-align: right;\n",
       "    }\n",
       "</style>\n",
       "<table border=\"1\" class=\"dataframe\">\n",
       "  <thead>\n",
       "    <tr style=\"text-align: right;\">\n",
       "      <th></th>\n",
       "      <th>GDP_pp</th>\n",
       "    </tr>\n",
       "    <tr>\n",
       "      <th>Country</th>\n",
       "      <th></th>\n",
       "    </tr>\n",
       "  </thead>\n",
       "  <tbody>\n",
       "    <tr>\n",
       "      <th>Afghanistan</th>\n",
       "      <td>613.99</td>\n",
       "    </tr>\n",
       "    <tr>\n",
       "      <th>Albania</th>\n",
       "      <td>1062.01</td>\n",
       "    </tr>\n",
       "    <tr>\n",
       "      <th>Algeria</th>\n",
       "      <td>1807.76</td>\n",
       "    </tr>\n",
       "    <tr>\n",
       "      <th>Andorra</th>\n",
       "      <td>3352.50</td>\n",
       "    </tr>\n",
       "    <tr>\n",
       "      <th>Angola</th>\n",
       "      <td>525.76</td>\n",
       "    </tr>\n",
       "    <tr>\n",
       "      <th>...</th>\n",
       "      <td>...</td>\n",
       "    </tr>\n",
       "    <tr>\n",
       "      <th>Venezuela</th>\n",
       "      <td>766.21</td>\n",
       "    </tr>\n",
       "    <tr>\n",
       "      <th>Vietnam</th>\n",
       "      <td>572.96</td>\n",
       "    </tr>\n",
       "    <tr>\n",
       "      <th>Yemen, Rep.</th>\n",
       "      <td>729.39</td>\n",
       "    </tr>\n",
       "    <tr>\n",
       "      <th>Zambia</th>\n",
       "      <td>532.38</td>\n",
       "    </tr>\n",
       "    <tr>\n",
       "      <th>Zimbabwe</th>\n",
       "      <td>385.69</td>\n",
       "    </tr>\n",
       "  </tbody>\n",
       "</table>\n",
       "<p>193 rows × 1 columns</p>\n",
       "</div>"
      ],
      "text/plain": [
       "             GDP_pp \n",
       "Country             \n",
       "Afghanistan   613.99\n",
       "Albania      1062.01\n",
       "Algeria      1807.76\n",
       "Andorra      3352.50\n",
       "Angola        525.76\n",
       "...              ...\n",
       "Venezuela     766.21\n",
       "Vietnam       572.96\n",
       "Yemen, Rep.   729.39\n",
       "Zambia        532.38\n",
       "Zimbabwe      385.69\n",
       "\n",
       "[193 rows x 1 columns]"
      ]
     },
     "execution_count": 38,
     "metadata": {},
     "output_type": "execute_result"
    }
   ],
   "source": [
    "df_gdp.groupby(\"Country\")[[\" GDP_pp \"]].first()"
   ]
  },
  {
   "cell_type": "markdown",
   "id": "tutorial-softball",
   "metadata": {},
   "source": [
    "- Informe as regiões com maiores crescimentos de PIB per capita no século passado."
   ]
  },
  {
   "cell_type": "code",
   "execution_count": 51,
   "id": "given-colorado",
   "metadata": {},
   "outputs": [],
   "source": [
    "df_1901 = df_gdp[df_gdp[\"Year\"].apply(lambda x: x.year == 1901)][[\"Country\", \" GDP_pp \"]].set_index(\"Country\")\n",
    "df_1996 = df_gdp[df_gdp[\"Year\"].apply(lambda x: x.year == 1996)][[\"Country\", \" GDP_pp \"]].set_index(\"Country\")"
   ]
  },
  {
   "cell_type": "code",
   "execution_count": 53,
   "id": "b55f7989",
   "metadata": {},
   "outputs": [],
   "source": [
    "df_diff = df_1996 - df_1901"
   ]
  },
  {
   "cell_type": "code",
   "execution_count": 60,
   "id": "19dd1ef2",
   "metadata": {},
   "outputs": [
    {
     "data": {
      "text/plain": [
       "Country\n",
       "Liechtenstein    62231.66\n",
       "Brunei           46918.76\n",
       "Luxembourg       45957.86\n",
       "Qatar            41062.08\n",
       "Kuwait           40555.95\n",
       "Name:  GDP_pp , dtype: float64"
      ]
     },
     "execution_count": 60,
     "metadata": {},
     "output_type": "execute_result"
    }
   ],
   "source": [
    "df_diff[\" GDP_pp \"].sort_values(ascending=False).head(5)"
   ]
  },
  {
   "cell_type": "markdown",
   "id": "textile-afternoon",
   "metadata": {},
   "source": [
    "- Preecha os anos ausentes em cada país com uma estimativa, baseada na diferença entre o próximo registro e o anterior."
   ]
  },
  {
   "cell_type": "code",
   "execution_count": 63,
   "id": "hydraulic-confidentiality",
   "metadata": {},
   "outputs": [],
   "source": [
    "df_full = df_gdp.copy()\n",
    "df_full.set_index(df_full[\"Year\"].apply(lambda x: x.year), inplace=True)\n",
    "df_full.drop(columns=[\"Year\"], inplace=True)"
   ]
  },
  {
   "cell_type": "code",
   "execution_count": null,
   "id": "8ee51fbb",
   "metadata": {},
   "outputs": [],
   "source": [
    "df_full.to_dict()"
   ]
  },
  {
   "cell_type": "markdown",
   "id": "revised-helicopter",
   "metadata": {},
   "source": [
    "### DESAFIOS\n",
    "- Você conseguiria criar um mapa do gdp ou da obesidade no mundo ao longo dos anos?"
   ]
  },
  {
   "cell_type": "code",
   "execution_count": null,
   "id": "advised-sample",
   "metadata": {},
   "outputs": [],
   "source": []
  },
  {
   "cell_type": "markdown",
   "id": "lesbian-flight",
   "metadata": {},
   "source": [
    "- Há uma relação entre níveis de obesidade e gdp per capita?"
   ]
  },
  {
   "cell_type": "code",
   "execution_count": null,
   "id": "fluid-enemy",
   "metadata": {},
   "outputs": [],
   "source": []
  }
 ],
 "metadata": {
  "kernelspec": {
   "display_name": "Python 3",
   "language": "python",
   "name": "python3"
  },
  "language_info": {
   "codemirror_mode": {
    "name": "ipython",
    "version": 3
   },
   "file_extension": ".py",
   "mimetype": "text/x-python",
   "name": "python",
   "nbconvert_exporter": "python",
   "pygments_lexer": "ipython3",
   "version": "3.12.6"
  }
 },
 "nbformat": 4,
 "nbformat_minor": 5
}
